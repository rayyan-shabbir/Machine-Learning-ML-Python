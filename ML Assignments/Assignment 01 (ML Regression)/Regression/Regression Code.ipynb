{
 "cells": [
  {
   "cell_type": "markdown",
   "id": "54b05f0f",
   "metadata": {},
   "source": [
    "# REGRESSION ASSIGNMENT"
   ]
  },
  {
   "cell_type": "code",
   "execution_count": 873,
   "id": "4fbba090",
   "metadata": {},
   "outputs": [],
   "source": [
    "# Importing important libraries related assignment....\n",
    "\n",
    "import pandas as pd\n",
    "import numpy as np\n",
    "import matplotlib.pyplot as plt\n",
    "%matplotlib inline "
   ]
  },
  {
   "cell_type": "code",
   "execution_count": 874,
   "id": "cdeca500",
   "metadata": {},
   "outputs": [],
   "source": [
    "# Getting Training and Testing data\n",
    "\n",
    "Train_data = pd.read_csv('trainRegression.csv')\n",
    "\n",
    "Test_data = pd.read_csv('testRegression.csv')"
   ]
  },
  {
   "cell_type": "code",
   "execution_count": 875,
   "id": "5cf86975",
   "metadata": {},
   "outputs": [
    {
     "name": "stdout",
     "output_type": "stream",
     "text": [
      "TRAIN DATA\n"
     ]
    },
    {
     "data": {
      "text/html": [
       "<div>\n",
       "<style scoped>\n",
       "    .dataframe tbody tr th:only-of-type {\n",
       "        vertical-align: middle;\n",
       "    }\n",
       "\n",
       "    .dataframe tbody tr th {\n",
       "        vertical-align: top;\n",
       "    }\n",
       "\n",
       "    .dataframe thead th {\n",
       "        text-align: right;\n",
       "    }\n",
       "</style>\n",
       "<table border=\"1\" class=\"dataframe\">\n",
       "  <thead>\n",
       "    <tr style=\"text-align: right;\">\n",
       "      <th></th>\n",
       "      <th>X</th>\n",
       "      <th>R</th>\n",
       "    </tr>\n",
       "  </thead>\n",
       "  <tbody>\n",
       "    <tr>\n",
       "      <th>0</th>\n",
       "      <td>0.01</td>\n",
       "      <td>-0.2730</td>\n",
       "    </tr>\n",
       "    <tr>\n",
       "      <th>1</th>\n",
       "      <td>0.02</td>\n",
       "      <td>-0.1170</td>\n",
       "    </tr>\n",
       "    <tr>\n",
       "      <th>2</th>\n",
       "      <td>0.03</td>\n",
       "      <td>-0.3090</td>\n",
       "    </tr>\n",
       "    <tr>\n",
       "      <th>3</th>\n",
       "      <td>0.04</td>\n",
       "      <td>0.0306</td>\n",
       "    </tr>\n",
       "    <tr>\n",
       "      <th>4</th>\n",
       "      <td>0.05</td>\n",
       "      <td>-0.0802</td>\n",
       "    </tr>\n",
       "  </tbody>\n",
       "</table>\n",
       "</div>"
      ],
      "text/plain": [
       "      X       R\n",
       "0  0.01 -0.2730\n",
       "1  0.02 -0.1170\n",
       "2  0.03 -0.3090\n",
       "3  0.04  0.0306\n",
       "4  0.05 -0.0802"
      ]
     },
     "execution_count": 875,
     "metadata": {},
     "output_type": "execute_result"
    }
   ],
   "source": [
    "# Printing Training data\n",
    "\n",
    "print(\"TRAIN DATA\")\n",
    "Train_data.head()"
   ]
  },
  {
   "cell_type": "code",
   "execution_count": 876,
   "id": "0064cf89",
   "metadata": {},
   "outputs": [
    {
     "name": "stdout",
     "output_type": "stream",
     "text": [
      "\n",
      "TEST DATA\n"
     ]
    },
    {
     "data": {
      "text/html": [
       "<div>\n",
       "<style scoped>\n",
       "    .dataframe tbody tr th:only-of-type {\n",
       "        vertical-align: middle;\n",
       "    }\n",
       "\n",
       "    .dataframe tbody tr th {\n",
       "        vertical-align: top;\n",
       "    }\n",
       "\n",
       "    .dataframe thead th {\n",
       "        text-align: right;\n",
       "    }\n",
       "</style>\n",
       "<table border=\"1\" class=\"dataframe\">\n",
       "  <thead>\n",
       "    <tr style=\"text-align: right;\">\n",
       "      <th></th>\n",
       "      <th>X</th>\n",
       "      <th>R</th>\n",
       "    </tr>\n",
       "  </thead>\n",
       "  <tbody>\n",
       "    <tr>\n",
       "      <th>0</th>\n",
       "      <td>0.0</td>\n",
       "      <td>-0.226</td>\n",
       "    </tr>\n",
       "    <tr>\n",
       "      <th>1</th>\n",
       "      <td>0.1</td>\n",
       "      <td>-0.174</td>\n",
       "    </tr>\n",
       "    <tr>\n",
       "      <th>2</th>\n",
       "      <td>0.2</td>\n",
       "      <td>0.459</td>\n",
       "    </tr>\n",
       "    <tr>\n",
       "      <th>3</th>\n",
       "      <td>0.3</td>\n",
       "      <td>0.638</td>\n",
       "    </tr>\n",
       "    <tr>\n",
       "      <th>4</th>\n",
       "      <td>0.4</td>\n",
       "      <td>0.869</td>\n",
       "    </tr>\n",
       "  </tbody>\n",
       "</table>\n",
       "</div>"
      ],
      "text/plain": [
       "     X      R\n",
       "0  0.0 -0.226\n",
       "1  0.1 -0.174\n",
       "2  0.2  0.459\n",
       "3  0.3  0.638\n",
       "4  0.4  0.869"
      ]
     },
     "execution_count": 876,
     "metadata": {},
     "output_type": "execute_result"
    }
   ],
   "source": [
    "# Printing Testing data\n",
    "\n",
    "print(\"\\nTEST DATA\")\n",
    "Test_data.head()"
   ]
  },
  {
   "cell_type": "code",
   "execution_count": 877,
   "id": "9e6387f8",
   "metadata": {},
   "outputs": [
    {
     "name": "stdout",
     "output_type": "stream",
     "text": [
      "0      0.01\n",
      "1      0.02\n",
      "2      0.03\n",
      "3      0.04\n",
      "4      0.05\n",
      "       ... \n",
      "278    3.09\n",
      "279    3.11\n",
      "280    3.12\n",
      "281    3.13\n",
      "282    3.14\n",
      "Name: X, Length: 283, dtype: float64\n"
     ]
    }
   ],
   "source": [
    "print(Train_data['X'])"
   ]
  },
  {
   "cell_type": "code",
   "execution_count": 878,
   "id": "e3c9dcc5",
   "metadata": {},
   "outputs": [
    {
     "data": {
      "text/plain": [
       "Text(0, 0.5, 'Outputs')"
      ]
     },
     "execution_count": 878,
     "metadata": {},
     "output_type": "execute_result"
    },
    {
     "data": {
      "image/png": "[encoded data removed]",
      "text/plain": [
       "<Figure size 640x480 with 1 Axes>"
      ]
     },
     "metadata": {},
     "output_type": "display_data"
    }
   ],
   "source": [
    "# plotting Training data\n",
    "plt.plot(Train_data['X'], Train_data['R'], '.')\n",
    "\n",
    "plt.title(\"Training Data\")\n",
    "plt.xlabel('Inputs')\n",
    "plt.ylabel('Outputs')"
   ]
  },
  {
   "cell_type": "code",
   "execution_count": 879,
   "id": "6c114a13",
   "metadata": {},
   "outputs": [
    {
     "data": {
      "text/plain": [
       "pandas.core.frame.DataFrame"
      ]
     },
     "execution_count": 879,
     "metadata": {},
     "output_type": "execute_result"
    }
   ],
   "source": [
    "type(Train_data)"
   ]
  },
  {
   "cell_type": "code",
   "execution_count": 880,
   "id": "1233d935",
   "metadata": {},
   "outputs": [
    {
     "name": "stdout",
     "output_type": "stream",
     "text": [
      "[[ 0.01    -0.273  ]\n",
      " [ 0.02    -0.117  ]\n",
      " [ 0.03    -0.309  ]\n",
      " [ 0.04     0.0306 ]\n",
      " [ 0.05    -0.0802 ]\n",
      " [ 0.06     0.243  ]\n",
      " [ 0.07     0.00638]\n",
      " [ 0.08     0.284  ]\n",
      " [ 0.09    -0.0904 ]\n",
      " [ 0.11     0.0295 ]\n",
      " [ 0.12     0.371  ]\n",
      " [ 0.13     0.499  ]\n",
      " [ 0.14     0.167  ]\n",
      " [ 0.15     0.621  ]\n",
      " [ 0.16     0.304  ]\n",
      " [ 0.17     0.373  ]\n",
      " [ 0.18     0.31   ]\n",
      " [ 0.19     0.276  ]\n",
      " [ 0.21     0.54   ]\n",
      " [ 0.22     0.403  ]\n",
      " [ 0.23    -0.0748 ]\n",
      " [ 0.24     0.913  ]\n",
      " [ 0.25     0.309  ]\n",
      " [ 0.26     0.903  ]\n",
      " [ 0.27     0.739  ]\n",
      " [ 0.28     0.0182 ]\n",
      " [ 0.29     0.57   ]\n",
      " [ 0.31     0.763  ]\n",
      " [ 0.32     0.74   ]\n",
      " [ 0.33     0.753  ]\n",
      " [ 0.34     0.712  ]\n",
      " [ 0.35     0.751  ]\n",
      " [ 0.36     1.02   ]\n",
      " [ 0.37     0.803  ]\n",
      " [ 0.38     0.679  ]\n",
      " [ 0.39     0.731  ]\n",
      " [ 0.41     0.749  ]\n",
      " [ 0.42     0.612  ]\n",
      " [ 0.43     0.575  ]\n",
      " [ 0.44     0.856  ]\n",
      " [ 0.45     1.     ]\n",
      " [ 0.46     1.08   ]\n",
      " [ 0.47     1.01   ]\n",
      " [ 0.48     0.698  ]\n",
      " [ 0.49     1.02   ]\n",
      " [ 0.51     0.851  ]\n",
      " [ 0.52     0.616  ]\n",
      " [ 0.53     1.16   ]\n",
      " [ 0.54     0.995  ]\n",
      " [ 0.55     1.1    ]\n",
      " [ 0.56     0.896  ]\n",
      " [ 0.57     0.991  ]\n",
      " [ 0.58     0.721  ]\n",
      " [ 0.59     0.683  ]\n",
      " [ 0.61     1.32   ]\n",
      " [ 0.62     1.04   ]\n",
      " [ 0.63     0.905  ]\n",
      " [ 0.64     0.873  ]\n",
      " [ 0.65     0.766  ]\n",
      " [ 0.66     1.24   ]\n",
      " [ 0.67     1.18   ]\n",
      " [ 0.68     1.08   ]\n",
      " [ 0.69     1.08   ]\n",
      " [ 0.71     1.22   ]\n",
      " [ 0.72     1.29   ]\n",
      " [ 0.73     0.799  ]\n",
      " [ 0.74     0.872  ]\n",
      " [ 0.75     1.24   ]\n",
      " [ 0.76     1.22   ]\n",
      " [ 0.77     1.22   ]\n",
      " [ 0.78     1.03   ]\n",
      " [ 0.79     1.05   ]\n",
      " [ 0.81     0.985  ]\n",
      " [ 0.82     1.26   ]\n",
      " [ 0.83     1.05   ]\n",
      " [ 0.84     1.03   ]\n",
      " [ 0.85     1.06   ]\n",
      " [ 0.86     0.641  ]\n",
      " [ 0.87     1.38   ]\n",
      " [ 0.88     0.856  ]\n",
      " [ 0.89     1.38   ]\n",
      " [ 0.91     1.07   ]\n",
      " [ 0.92     0.839  ]\n",
      " [ 0.93     1.25   ]\n",
      " [ 0.94     0.944  ]\n",
      " [ 0.95     0.917  ]\n",
      " [ 0.96     1.02   ]\n",
      " [ 0.97     1.12   ]\n",
      " [ 0.98     0.681  ]\n",
      " [ 0.99     0.606  ]\n",
      " [ 1.01     0.914  ]\n",
      " [ 1.02     0.495  ]\n",
      " [ 1.03     1.02   ]\n",
      " [ 1.04     0.701  ]\n",
      " [ 1.05     0.906  ]\n",
      " [ 1.06     1.03   ]\n",
      " [ 1.07     0.971  ]\n",
      " [ 1.08     0.639  ]\n",
      " [ 1.09     0.75   ]\n",
      " [ 1.11     0.976  ]\n",
      " [ 1.12     0.833  ]\n",
      " [ 1.13     1.01   ]\n",
      " [ 1.14     0.871  ]\n",
      " [ 1.15     0.775  ]\n",
      " [ 1.16     0.51   ]\n",
      " [ 1.17     0.696  ]\n",
      " [ 1.18     0.772  ]\n",
      " [ 1.19     0.816  ]\n",
      " [ 1.21     0.551  ]\n",
      " [ 1.22     0.777  ]\n",
      " [ 1.23     0.797  ]\n",
      " [ 1.24     0.53   ]\n",
      " [ 1.25     0.361  ]\n",
      " [ 1.26     0.487  ]\n",
      " [ 1.27     0.505  ]\n",
      " [ 1.28     0.571  ]\n",
      " [ 1.29    -0.231  ]\n",
      " [ 1.31     0.0332 ]\n",
      " [ 1.32     0.193  ]\n",
      " [ 1.33     0.0337 ]\n",
      " [ 1.34     0.17   ]\n",
      " [ 1.35     0.0429 ]\n",
      " [ 1.36     0.37   ]\n",
      " [ 1.37     0.557  ]\n",
      " [ 1.38     0.0704 ]\n",
      " [ 1.39     0.0926 ]\n",
      " [ 1.41     0.326  ]\n",
      " [ 1.42    -0.0721 ]\n",
      " [ 1.43     0.127  ]\n",
      " [ 1.44    -0.0489 ]\n",
      " [ 1.45     0.027  ]\n",
      " [ 1.46     0.145  ]\n",
      " [ 1.47     0.199  ]\n",
      " [ 1.48    -0.228  ]\n",
      " [ 1.49    -0.196  ]\n",
      " [ 1.51    -0.173  ]\n",
      " [ 1.52     0.071  ]\n",
      " [ 1.53    -0.183  ]\n",
      " [ 1.54    -0.258  ]\n",
      " [ 1.55    -0.583  ]\n",
      " [ 1.56    -0.204  ]\n",
      " [ 1.57    -0.0582 ]\n",
      " [ 1.58     0.0102 ]\n",
      " [ 1.59    -0.0451 ]\n",
      " [ 1.61    -0.389  ]\n",
      " [ 1.62     0.0168 ]\n",
      " [ 1.63    -0.793  ]\n",
      " [ 1.64    -0.0484 ]\n",
      " [ 1.65    -0.282  ]\n",
      " [ 1.66    -0.524  ]\n",
      " [ 1.67    -0.242  ]\n",
      " [ 1.68    -0.53   ]\n",
      " [ 1.69    -0.151  ]\n",
      " [ 1.71    -0.0864 ]\n",
      " [ 1.72    -0.475  ]\n",
      " [ 1.73    -0.638  ]\n",
      " [ 1.74    -0.654  ]\n",
      " [ 1.75    -0.71   ]\n",
      " [ 1.76    -0.647  ]\n",
      " [ 1.77    -0.978  ]\n",
      " [ 1.78    -0.472  ]\n",
      " [ 1.79    -0.451  ]\n",
      " [ 1.81    -0.775  ]\n",
      " [ 1.82    -0.617  ]\n",
      " [ 1.83    -0.758  ]\n",
      " [ 1.84    -0.717  ]\n",
      " [ 1.85    -0.554  ]\n",
      " [ 1.86    -0.562  ]\n",
      " [ 1.87    -0.959  ]\n",
      " [ 1.88    -0.524  ]\n",
      " [ 1.89    -0.853  ]\n",
      " [ 1.91    -1.28   ]\n",
      " [ 1.92    -1.05   ]\n",
      " [ 1.93    -0.779  ]\n",
      " [ 1.94    -0.938  ]\n",
      " [ 1.95    -1.18   ]\n",
      " [ 1.96    -0.619  ]\n",
      " [ 1.97    -0.507  ]\n",
      " [ 1.98    -0.877  ]\n",
      " [ 1.99    -0.782  ]\n",
      " [ 2.01    -0.977  ]\n",
      " [ 2.02    -1.03   ]\n",
      " [ 2.03    -0.772  ]\n",
      " [ 2.04    -0.925  ]\n",
      " [ 2.05    -0.994  ]\n",
      " [ 2.06    -0.998  ]\n",
      " [ 2.07    -0.904  ]\n",
      " [ 2.08    -0.719  ]\n",
      " [ 2.09    -0.85   ]\n",
      " [ 2.11    -0.722  ]\n",
      " [ 2.12    -0.92   ]\n",
      " [ 2.13    -1.06   ]\n",
      " [ 2.14    -1.11   ]\n",
      " [ 2.15    -0.886  ]\n",
      " [ 2.16    -0.794  ]\n",
      " [ 2.17    -0.902  ]\n",
      " [ 2.18    -0.877  ]\n",
      " [ 2.19    -1.15   ]\n",
      " [ 2.21    -1.45   ]\n",
      " [ 2.22    -0.667  ]\n",
      " [ 2.23    -1.2    ]\n",
      " [ 2.24    -0.931  ]\n",
      " [ 2.25    -0.755  ]\n",
      " [ 2.26    -0.986  ]\n",
      " [ 2.27    -1.31   ]\n",
      " [ 2.28    -1.36   ]\n",
      " [ 2.29    -0.739  ]\n",
      " [ 2.31    -0.934  ]\n",
      " [ 2.32    -0.803  ]\n",
      " [ 2.33    -0.723  ]\n",
      " [ 2.34    -0.916  ]\n",
      " [ 2.35    -0.876  ]\n",
      " [ 2.36    -0.963  ]\n",
      " [ 2.37    -0.935  ]\n",
      " [ 2.38    -1.05   ]\n",
      " [ 2.39    -1.06   ]\n",
      " [ 2.41    -1.03   ]\n",
      " [ 2.42    -0.918  ]\n",
      " [ 2.43    -0.818  ]\n",
      " [ 2.44    -0.918  ]\n",
      " [ 2.45    -0.736  ]\n",
      " [ 2.46    -0.955  ]\n",
      " [ 2.47    -0.642  ]\n",
      " [ 2.48    -1.09   ]\n",
      " [ 2.49    -0.853  ]\n",
      " [ 2.51    -1.02   ]\n",
      " [ 2.52    -1.04   ]\n",
      " [ 2.53    -0.74   ]\n",
      " [ 2.54    -0.886  ]\n",
      " [ 2.55    -0.966  ]\n",
      " [ 2.56    -0.778  ]\n",
      " [ 2.57    -0.793  ]\n",
      " [ 2.58    -0.849  ]\n",
      " [ 2.59    -1.     ]\n",
      " [ 2.61    -0.698  ]\n",
      " [ 2.62    -0.587  ]\n",
      " [ 2.63    -0.433  ]\n",
      " [ 2.64    -0.933  ]\n",
      " [ 2.65    -0.616  ]\n",
      " [ 2.66    -0.898  ]\n",
      " [ 2.67    -0.695  ]\n",
      " [ 2.68    -0.6    ]\n",
      " [ 2.69    -0.885  ]\n",
      " [ 2.71    -0.524  ]\n",
      " [ 2.72    -0.536  ]\n",
      " [ 2.73    -0.354  ]\n",
      " [ 2.74    -0.891  ]\n",
      " [ 2.75    -0.387  ]\n",
      " [ 2.76    -0.386  ]\n",
      " [ 2.77    -0.172  ]\n",
      " [ 2.78    -0.453  ]\n",
      " [ 2.79    -0.39   ]\n",
      " [ 2.81    -0.574  ]\n",
      " [ 2.82    -0.275  ]\n",
      " [ 2.83    -0.643  ]\n",
      " [ 2.84    -0.502  ]\n",
      " [ 2.85    -0.295  ]\n",
      " [ 2.86    -0.163  ]\n",
      " [ 2.87    -0.127  ]\n",
      " [ 2.88    -0.206  ]\n",
      " [ 2.89     0.158  ]\n",
      " [ 2.91    -0.345  ]\n",
      " [ 2.92     0.101  ]\n",
      " [ 2.93    -0.0363 ]\n",
      " [ 2.94     0.26   ]\n",
      " [ 2.95     0.0181 ]\n",
      " [ 2.96    -0.0743 ]\n",
      " [ 2.97     0.0249 ]\n",
      " [ 2.98     0.377  ]\n",
      " [ 2.99    -0.0138 ]\n",
      " [ 3.01    -0.345  ]\n",
      " [ 3.02    -0.159  ]\n",
      " [ 3.03    -0.21   ]\n",
      " [ 3.04    -0.0679 ]\n",
      " [ 3.05     0.0285 ]\n",
      " [ 3.06    -0.0138 ]\n",
      " [ 3.07    -0.184  ]\n",
      " [ 3.08     0.094  ]\n",
      " [ 3.09     0.356  ]\n",
      " [ 3.11     0.00649]\n",
      " [ 3.12     0.276  ]\n",
      " [ 3.13     0.21   ]\n",
      " [ 3.14     0.322  ]]\n"
     ]
    }
   ],
   "source": [
    "# To convert Train data into Numpy Array\n",
    "\n",
    "numpy_Train_data = np.array(Train_data)\n",
    "\n",
    "print(numpy_Train_data)"
   ]
  },
  {
   "cell_type": "markdown",
   "id": "e1897d65",
   "metadata": {},
   "source": [
    "# Linear Model"
   ]
  },
  {
   "cell_type": "code",
   "execution_count": 881,
   "id": "de40e2f5",
   "metadata": {},
   "outputs": [],
   "source": [
    "# Computing Linear Matrix fields\n",
    "\n",
    "\n",
    "Train_X = np.array(Train_data['X'])\n",
    "Train_Y = np.array(Train_data['R'])\n",
    "\n",
    "# Matrix 'A'\n",
    "Lin_A1 = Train_data.shape[0]\n",
    "Lin_A2 = np.sum(Train_X)\n",
    "Lin_A3 = np.sum(Train_X)\n",
    "Lin_A4 = np.sum(np.dot(Train_X, Train_X))\n",
    "\n",
    "# print(Train_X)"
   ]
  },
  {
   "cell_type": "code",
   "execution_count": 882,
   "id": "201d0a2d",
   "metadata": {},
   "outputs": [
    {
     "name": "stdout",
     "output_type": "stream",
     "text": [
      "283\n"
     ]
    }
   ],
   "source": [
    "print(Lin_A1)"
   ]
  },
  {
   "cell_type": "code",
   "execution_count": 883,
   "id": "0a3c82f7",
   "metadata": {},
   "outputs": [
    {
     "name": "stdout",
     "output_type": "stream",
     "text": [
      "444.94999999999993\n"
     ]
    }
   ],
   "source": [
    "print(Lin_A2)"
   ]
  },
  {
   "cell_type": "code",
   "execution_count": 884,
   "id": "86572f9c",
   "metadata": {},
   "outputs": [
    {
     "name": "stdout",
     "output_type": "stream",
     "text": [
      "444.94999999999993\n"
     ]
    }
   ],
   "source": [
    "print(Lin_A3)"
   ]
  },
  {
   "cell_type": "code",
   "execution_count": 885,
   "id": "b65ed5b9",
   "metadata": {},
   "outputs": [
    {
     "name": "stdout",
     "output_type": "stream",
     "text": [
      "932.7465\n"
     ]
    }
   ],
   "source": [
    "print(Lin_A4)"
   ]
  },
  {
   "cell_type": "code",
   "execution_count": 886,
   "id": "4920b80e",
   "metadata": {},
   "outputs": [],
   "source": [
    "# Matrix 'B'\n",
    "Lin_B1 = np.sum(Train_Y)\n",
    "Lin_B2 = np.sum(np.dot(Train_X, Train_Y))"
   ]
  },
  {
   "cell_type": "code",
   "execution_count": 887,
   "id": "3671c56d",
   "metadata": {},
   "outputs": [
    {
     "name": "stdout",
     "output_type": "stream",
     "text": [
      "1.3908700000000067\n"
     ]
    }
   ],
   "source": [
    "print(Lin_B1)"
   ]
  },
  {
   "cell_type": "code",
   "execution_count": 888,
   "id": "2e227055",
   "metadata": {},
   "outputs": [
    {
     "name": "stdout",
     "output_type": "stream",
     "text": [
      "-126.6414295\n"
     ]
    }
   ],
   "source": [
    "print(Lin_B2)"
   ]
  },
  {
   "cell_type": "code",
   "execution_count": 889,
   "id": "8e535b6f",
   "metadata": {},
   "outputs": [],
   "source": [
    "# Generating Matrix 'A' & Matrix 'B'\n",
    "Lin_A = np.array([[Lin_A1, Lin_A2], \n",
    "              [Lin_A3, Lin_A4]])\n",
    "\n",
    "Lin_B = np.array([[Lin_B1], \n",
    "                  [Lin_B2]])"
   ]
  },
  {
   "cell_type": "code",
   "execution_count": 890,
   "id": "636fa78e",
   "metadata": {},
   "outputs": [
    {
     "name": "stdout",
     "output_type": "stream",
     "text": [
      "[[283.     444.95  ]\n",
      " [444.95   932.7465]]\n"
     ]
    }
   ],
   "source": [
    "print(Lin_A)"
   ]
  },
  {
   "cell_type": "code",
   "execution_count": 891,
   "id": "d9f90997",
   "metadata": {},
   "outputs": [
    {
     "name": "stdout",
     "output_type": "stream",
     "text": [
      "[[   1.39087  ]\n",
      " [-126.6414295]]\n"
     ]
    }
   ],
   "source": [
    "print(Lin_B)"
   ]
  },
  {
   "cell_type": "code",
   "execution_count": 892,
   "id": "9ea97ada",
   "metadata": {},
   "outputs": [],
   "source": [
    "# Taking inverse of Matrix 'A'\n",
    "Lin_A_inv = np.linalg.inv(Lin_A)\n",
    "\n",
    "# Computing 'Q' Matrix (which has values; Qo & Q1 that is used to get predictions of Testing data)\n",
    "Lin_Q = np.dot(A_inv, B)"
   ]
  },
  {
   "cell_type": "code",
   "execution_count": 893,
   "id": "c5690ec6",
   "metadata": {},
   "outputs": [
    {
     "name": "stdout",
     "output_type": "stream",
     "text": [
      "[[ 0.01413536 -0.00674302]\n",
      " [-0.00674302  0.00428874]]\n"
     ]
    }
   ],
   "source": [
    "print(Lin_A_inv)"
   ]
  },
  {
   "cell_type": "code",
   "execution_count": 894,
   "id": "90adfa99",
   "metadata": {},
   "outputs": [
    {
     "name": "stdout",
     "output_type": "stream",
     "text": [
      "[[ 0.8736061 ]\n",
      " [-0.55251074]]\n"
     ]
    }
   ],
   "source": [
    "print(Lin_Q)"
   ]
  },
  {
   "cell_type": "code",
   "execution_count": 895,
   "id": "972a1513",
   "metadata": {},
   "outputs": [],
   "source": [
    "# Getting Testing inputs data\n",
    "Test_X = np.array(Test_data['X'])"
   ]
  },
  {
   "cell_type": "code",
   "execution_count": 896,
   "id": "19e5ef04",
   "metadata": {},
   "outputs": [
    {
     "data": {
      "text/plain": [
       "numpy.ndarray"
      ]
     },
     "execution_count": 896,
     "metadata": {},
     "output_type": "execute_result"
    }
   ],
   "source": [
    "# Storing Q's Matrix values\n",
    "Lin_Qo = Q[0:1]\n",
    "Lin_Q1 = Q[1:2]\n",
    "\n",
    "type(Lin_Qo)"
   ]
  },
  {
   "cell_type": "code",
   "execution_count": 897,
   "id": "77adcce7",
   "metadata": {},
   "outputs": [
    {
     "name": "stdout",
     "output_type": "stream",
     "text": [
      "[[0.8736061]]\n"
     ]
    }
   ],
   "source": [
    "print(Lin_Qo)"
   ]
  },
  {
   "cell_type": "code",
   "execution_count": 898,
   "id": "e618f735",
   "metadata": {},
   "outputs": [
    {
     "name": "stdout",
     "output_type": "stream",
     "text": [
      "[[-0.55251074]]\n"
     ]
    }
   ],
   "source": [
    "print(Lin_Q1)"
   ]
  },
  {
   "cell_type": "code",
   "execution_count": 899,
   "id": "22775d02",
   "metadata": {},
   "outputs": [
    {
     "data": {
      "text/plain": [
       "numpy.ndarray"
      ]
     },
     "execution_count": 899,
     "metadata": {},
     "output_type": "execute_result"
    }
   ],
   "source": [
    "type(Test_X)"
   ]
  },
  {
   "cell_type": "code",
   "execution_count": 900,
   "id": "ab589992",
   "metadata": {},
   "outputs": [],
   "source": [
    "# Hypothesis Function for Linear Model\n",
    "Lin_y_hat = float(Lin_Qo) + np.dot(float(Lin_Q1), Test_X)"
   ]
  },
  {
   "cell_type": "code",
   "execution_count": 901,
   "id": "18c48c71",
   "metadata": {},
   "outputs": [
    {
     "name": "stdout",
     "output_type": "stream",
     "text": [
      "[ 0.8736061   0.81835502  0.76310395  0.70785287  0.6526018   0.59735072\n",
      "  0.54209965  0.48684858  0.4315975   0.37634643  0.32109535  0.26584428\n",
      "  0.2105932   0.15534213  0.10009106  0.04483998 -0.01041109 -0.06566217\n",
      " -0.12091324 -0.17616432 -0.23141539 -0.28666646 -0.34191754 -0.39716861\n",
      " -0.45241969 -0.50767076 -0.56292184 -0.61817291 -0.67342398 -0.72867506\n",
      " -0.78392613 -0.83917721]\n"
     ]
    }
   ],
   "source": [
    "print(Lin_y_hat)"
   ]
  },
  {
   "cell_type": "code",
   "execution_count": 902,
   "id": "277bad65",
   "metadata": {},
   "outputs": [
    {
     "data": {
      "text/plain": [
       "(32,)"
      ]
     },
     "execution_count": 902,
     "metadata": {},
     "output_type": "execute_result"
    }
   ],
   "source": [
    "Lin_y_hat.shape"
   ]
  },
  {
   "cell_type": "code",
   "execution_count": 903,
   "id": "16292126",
   "metadata": {},
   "outputs": [
    {
     "name": "stdout",
     "output_type": "stream",
     "text": [
      "[-0.226  -0.174   0.459   0.638   0.869   0.665   0.745   1.25    0.929\n",
      "  0.946   1.01    0.928   0.586   0.704  -0.0383 -0.156  -0.339  -0.0542\n",
      " -0.628  -0.985  -0.595  -0.698  -1.17   -1.18   -0.982  -1.14   -0.605\n",
      " -0.85   -0.404   0.0864 -0.464   0.142 ]\n"
     ]
    }
   ],
   "source": [
    "# Getting Testing output values\n",
    "Test_Y = np.array(Test_data['R'])\n",
    "\n",
    "print(Test_Y)"
   ]
  },
  {
   "cell_type": "code",
   "execution_count": 904,
   "id": "f7673fc9",
   "metadata": {},
   "outputs": [],
   "source": [
    "# Computing Mean Square Error for Linear Model\n",
    "Linear_MSE = np.sum(np.dot((Lin_y_hat - Test_Y), (Lin_y_hat - Test_Y)))/Lin_y_hat.shape[0]"
   ]
  },
  {
   "cell_type": "code",
   "execution_count": 905,
   "id": "a8867efe",
   "metadata": {},
   "outputs": [
    {
     "name": "stdout",
     "output_type": "stream",
     "text": [
      "Mean Square Error for LINEAR MODEL is::  0.31593217204597746\n"
     ]
    }
   ],
   "source": [
    "print(\"Mean Square Error for LINEAR MODEL is:: \", Linear_MSE)"
   ]
  },
  {
   "cell_type": "markdown",
   "id": "3e086e05",
   "metadata": {},
   "source": [
    "### Plotting resulting graph for Linear Model"
   ]
  },
  {
   "cell_type": "code",
   "execution_count": 906,
   "id": "4cb1d31c",
   "metadata": {},
   "outputs": [
    {
     "data": {
      "text/plain": [
       "Text(0.5, 0, 'inputs')"
      ]
     },
     "execution_count": 906,
     "metadata": {},
     "output_type": "execute_result"
    },
    {
     "data": {
      "image/png": "[encoded data removed]",
      "text/plain": [
       "<Figure size 640x480 with 1 Axes>"
      ]
     },
     "metadata": {},
     "output_type": "display_data"
    }
   ],
   "source": [
    "# plotting graph to compare values of actual Test data output & predictions which are done by our Linear Model\n",
    "plt.plot(Test_X, Test_Y, Test_X, Lin_y_hat, linewidth='5')\n",
    "\n",
    "plt.title(\"Comparision of Testing data (Actual VS Prediction)\")\n",
    "plt.ylabel(\"outputs\")\n",
    "plt.xlabel(\"inputs\")"
   ]
  },
  {
   "cell_type": "markdown",
   "id": "77a3e4d3",
   "metadata": {},
   "source": [
    "##### Quadratic Model"
   ]
  },
  {
   "cell_type": "code",
   "execution_count": 907,
   "id": "2f1d45fb",
   "metadata": {},
   "outputs": [],
   "source": [
    "# Computer x^2, x^3 values (which will be used in Matrices)\n",
    "\n",
    "x_square = np.multiply(Train_X, Train_X)\n",
    "x_cube = np.multiply(x_square, Train_X)"
   ]
  },
  {
   "cell_type": "code",
   "execution_count": 908,
   "id": "0fc279e3",
   "metadata": {},
   "outputs": [],
   "source": [
    "# Computing Quadratic Matrix fields\n",
    "\n",
    "# Matrix 'A'\n",
    "Quad_A1 = Train_data.shape[0]\n",
    "Quad_A2 = np.sum(Train_X)\n",
    "Quad_A3 = np.sum(np.multiply(Train_X, Train_X))\n",
    "Quad_A4 = np.sum(Train_X)\n",
    "Quad_A5 = np.sum(np.multiply(Train_X, Train_X))\n",
    "Quad_A6 = np.sum(np.multiply(x_square, Train_X))\n",
    "Quad_A7 = np.sum(np.multiply(Train_X, Train_X))\n",
    "Quad_A8 = np.sum(np.multiply(x_square, Train_X))\n",
    "Quad_A9 = np.sum(np.multiply(x_cube, Train_X))\n",
    "\n",
    "# print(Train_X)"
   ]
  },
  {
   "cell_type": "code",
   "execution_count": 909,
   "id": "d6fef9f1",
   "metadata": {},
   "outputs": [],
   "source": [
    "# Matrix 'B'\n",
    "Quad_B1 = np.sum(Train_Y)\n",
    "Quad_B2 = np.sum(np.multiply(Train_X, Train_Y))\n",
    "Quad_B3 = np.sum(np.multiply(Train_Y, x_square))"
   ]
  },
  {
   "cell_type": "code",
   "execution_count": 910,
   "id": "25396448",
   "metadata": {},
   "outputs": [],
   "source": [
    "# Generating Matrix 'A' & Matrix 'B'\n",
    "Quad_A = np.array([[Quad_A1, Quad_A2, Quad_A3], \n",
    "                  [Quad_A4, Quad_A5, Quad_A6], \n",
    "                  [Quad_A7, Quad_A8, Quad_A9]])\n",
    "\n",
    "Quad_B = np.array([[Quad_B1], \n",
    "                   [Quad_B2], \n",
    "                   [Quad_B3]])"
   ]
  },
  {
   "cell_type": "code",
   "execution_count": 911,
   "id": "dcbbcaac",
   "metadata": {},
   "outputs": [
    {
     "name": "stdout",
     "output_type": "stream",
     "text": [
      "[[ 283.          444.95        932.7465    ]\n",
      " [ 444.95        932.7465     2199.781025  ]\n",
      " [ 932.7465     2199.781025   5533.85257677]]\n"
     ]
    }
   ],
   "source": [
    "print(Quad_A)"
   ]
  },
  {
   "cell_type": "code",
   "execution_count": 912,
   "id": "f7df64e9",
   "metadata": {},
   "outputs": [
    {
     "name": "stdout",
     "output_type": "stream",
     "text": [
      "[[   1.39087   ]\n",
      " [-126.6414295 ]\n",
      " [-378.87568955]]\n"
     ]
    }
   ],
   "source": [
    "print(Quad_B)"
   ]
  },
  {
   "cell_type": "code",
   "execution_count": 913,
   "id": "a39c33d9",
   "metadata": {},
   "outputs": [],
   "source": [
    "# Taking inverse of Matrix 'A'\n",
    "Quad_A_inv = np.linalg.inv(Quad_A)\n",
    "\n",
    "# Computing 'Q' Matrix (which has values; Qo, Q1 & Q2 that is used to get predictions of Testing data)\n",
    "Quad_Q = np.dot(Quad_A_inv, Quad_B)"
   ]
  },
  {
   "cell_type": "code",
   "execution_count": 914,
   "id": "df0db2bd",
   "metadata": {},
   "outputs": [
    {
     "name": "stdout",
     "output_type": "stream",
     "text": [
      "[[ 0.03181932 -0.04047862  0.01072756]\n",
      " [-0.04047862  0.06864599 -0.02046492]\n",
      " [ 0.01072756 -0.02046492  0.00650763]]\n"
     ]
    }
   ],
   "source": [
    "print(Quad_A_inv)"
   ]
  },
  {
   "cell_type": "code",
   "execution_count": 915,
   "id": "d552187c",
   "metadata": {},
   "outputs": [
    {
     "name": "stdout",
     "output_type": "stream",
     "text": [
      "[[ 1.10611454]\n",
      " [-0.99606599]\n",
      " [ 0.14104585]]\n"
     ]
    }
   ],
   "source": [
    "print(Quad_Q)"
   ]
  },
  {
   "cell_type": "code",
   "execution_count": 916,
   "id": "cc8fc3eb",
   "metadata": {},
   "outputs": [
    {
     "data": {
      "text/plain": [
       "numpy.ndarray"
      ]
     },
     "execution_count": 916,
     "metadata": {},
     "output_type": "execute_result"
    }
   ],
   "source": [
    "# Storing Q's Matrix values\n",
    "Quad_Qo = Quad_Q[0:1]\n",
    "Quad_Q1 = Quad_Q[1:2]\n",
    "Quad_Q2 = Quad_Q[2:3]\n",
    "\n",
    "type(Quad_Qo)"
   ]
  },
  {
   "cell_type": "code",
   "execution_count": 917,
   "id": "62fe7b2c",
   "metadata": {},
   "outputs": [
    {
     "name": "stdout",
     "output_type": "stream",
     "text": [
      "[[1.10611454]]\n"
     ]
    }
   ],
   "source": [
    "print(Quad_Qo)"
   ]
  },
  {
   "cell_type": "code",
   "execution_count": 918,
   "id": "7a2d6865",
   "metadata": {},
   "outputs": [
    {
     "name": "stdout",
     "output_type": "stream",
     "text": [
      "[[-0.99606599]]\n"
     ]
    }
   ],
   "source": [
    "print(Quad_Q1)"
   ]
  },
  {
   "cell_type": "code",
   "execution_count": 919,
   "id": "326a2623",
   "metadata": {},
   "outputs": [
    {
     "name": "stdout",
     "output_type": "stream",
     "text": [
      "[[0.14104585]]\n"
     ]
    }
   ],
   "source": [
    "print(Quad_Q2)"
   ]
  },
  {
   "cell_type": "code",
   "execution_count": 920,
   "id": "b259d9d6",
   "metadata": {},
   "outputs": [],
   "source": [
    "# Hypothesis Function for Quadratic Model\n",
    "Quad_y_hat = float(Quad_Qo) + np.multiply(float(Quad_Q1), Test_X) + np.multiply(float(Quad_Q2), (np.multiply(Test_X, Test_X)))"
   ]
  },
  {
   "cell_type": "code",
   "execution_count": 921,
   "id": "1fb8be09",
   "metadata": {},
   "outputs": [
    {
     "name": "stdout",
     "output_type": "stream",
     "text": [
      "[ 1.10611454  1.0079184   0.91254317  0.81998887  0.73025548  0.643343\n",
      "  0.55925145  0.47798081  0.39953109  0.32390228  0.25109439  0.18110742\n",
      "  0.11394137  0.04959623 -0.01192799 -0.0706313  -0.12651368 -0.17957515\n",
      " -0.22981571 -0.27723534 -0.32183406 -0.36361187 -0.40256875 -0.43870472\n",
      " -0.47201977 -0.50251391 -0.53018713 -0.55503943 -0.57707081 -0.59628128\n",
      " -0.61267083 -0.62623946]\n"
     ]
    }
   ],
   "source": [
    "print(Quad_y_hat)"
   ]
  },
  {
   "cell_type": "code",
   "execution_count": 922,
   "id": "8fc819ff",
   "metadata": {},
   "outputs": [
    {
     "data": {
      "text/plain": [
       "(32,)"
      ]
     },
     "execution_count": 922,
     "metadata": {},
     "output_type": "execute_result"
    }
   ],
   "source": [
    "Quad_y_hat.shape"
   ]
  },
  {
   "cell_type": "code",
   "execution_count": 923,
   "id": "31ac798a",
   "metadata": {},
   "outputs": [
    {
     "data": {
      "text/plain": [
       "(32,)"
      ]
     },
     "execution_count": 923,
     "metadata": {},
     "output_type": "execute_result"
    }
   ],
   "source": [
    "Test_X.shape"
   ]
  },
  {
   "cell_type": "code",
   "execution_count": 924,
   "id": "1ea6a025",
   "metadata": {},
   "outputs": [
    {
     "data": {
      "text/plain": [
       "(32, 2)"
      ]
     },
     "execution_count": 924,
     "metadata": {},
     "output_type": "execute_result"
    }
   ],
   "source": [
    "Test_data.shape"
   ]
  },
  {
   "cell_type": "code",
   "execution_count": 925,
   "id": "548fe08d",
   "metadata": {},
   "outputs": [],
   "source": [
    "# Computing Mean Square Error for Quadratic Model\n",
    "N = Test_data.shape[0]\n",
    "Quadratic_MSE = (np.sum(np.multiply((Quad_y_hat - Test_Y), (Quad_y_hat - Test_Y))))/(N)"
   ]
  },
  {
   "cell_type": "code",
   "execution_count": 926,
   "id": "8ab1f2aa",
   "metadata": {},
   "outputs": [
    {
     "name": "stdout",
     "output_type": "stream",
     "text": [
      "Mean Square Error for QUADRATIC MODEL is::  0.3260417959496285\n"
     ]
    }
   ],
   "source": [
    "print(\"Mean Square Error for QUADRATIC MODEL is:: \", Quadratic_MSE)"
   ]
  },
  {
   "cell_type": "markdown",
   "id": "168d7e40",
   "metadata": {},
   "source": [
    "### Plotting resulting graph for Quadratic Model"
   ]
  },
  {
   "cell_type": "code",
   "execution_count": 927,
   "id": "a7ed992f",
   "metadata": {},
   "outputs": [
    {
     "data": {
      "text/plain": [
       "[<matplotlib.lines.Line2D at 0x1f4612a4dc0>,\n",
       " <matplotlib.lines.Line2D at 0x1f4612a4f10>]"
      ]
     },
     "execution_count": 927,
     "metadata": {},
     "output_type": "execute_result"
    },
    {
     "data": {
      "image/png": "[encoded data removed]",
      "text/plain": [
       "<Figure size 640x480 with 1 Axes>"
      ]
     },
     "metadata": {},
     "output_type": "display_data"
    }
   ],
   "source": [
    "# plotting graph to compare values of actual Test data output & predictions which are done by our Quadratic Model\n",
    "\n",
    "plt.title(\"Comparision of Testing data (Actual VS Prediction)\")\n",
    "plt.ylabel(\"outputs\")\n",
    "plt.xlabel(\"inputs\")\n",
    "plt.plot(Test_X, Test_Y, Test_X, Quad_y_hat, linewidth='5')"
   ]
  },
  {
   "cell_type": "markdown",
   "id": "803c2e58",
   "metadata": {},
   "source": [
    "# Cubic Model"
   ]
  },
  {
   "cell_type": "code",
   "execution_count": 928,
   "id": "2fab364e",
   "metadata": {},
   "outputs": [],
   "source": [
    "# Computer x^4 & x^5 values (which will be used in Matrices)\n",
    "\n",
    "x_tetra = np.multiply(x_cube, Train_X)\n",
    "x_fivo = np.multiply(x_tetra, Train_X)"
   ]
  },
  {
   "cell_type": "code",
   "execution_count": 929,
   "id": "21794912",
   "metadata": {},
   "outputs": [],
   "source": [
    "# ComputingCubic Matrix fields\n",
    "\n",
    "# Matrix 'A'\n",
    "Cubic_A1 = Train_data.shape[0]\n",
    "Cubic_A2 = np.sum(Train_X)\n",
    "Cubic_A3 = np.sum(np.multiply(Train_X, Train_X))\n",
    "Cubic_A4 = np.sum(np.multiply(x_square, Train_X))\n",
    "Cubic_A5 = np.sum(Train_X)\n",
    "Cubic_A6 = np.sum(np.multiply(Train_X, Train_X))\n",
    "Cubic_A7 = np.sum(np.multiply(x_square, Train_X))\n",
    "Cubic_A8 = np.sum(np.multiply(x_cube, Train_X))\n",
    "Cubic_A9 = np.sum(np.multiply(Train_X, Train_X))\n",
    "Cubic_A10 = np.sum(np.multiply(x_square, Train_X))\n",
    "Cubic_A11 = np.sum(np.multiply(x_cube, Train_X))\n",
    "Cubic_A12 = np.sum(np.multiply(x_tetra, Train_X))\n",
    "Cubic_A13 = np.sum(np.multiply(x_square, Train_X))\n",
    "Cubic_A14 = np.sum(np.multiply(x_cube, Train_X))\n",
    "Cubic_A15 = np.sum(np.multiply(x_tetra, Train_X))\n",
    "Cubic_A16 = np.sum(np.multiply(x_fivo, Train_X))\n",
    "\n",
    "# print(Train_X)"
   ]
  },
  {
   "cell_type": "code",
   "execution_count": 930,
   "id": "510a5b39",
   "metadata": {},
   "outputs": [],
   "source": [
    "# Matrix 'B'\n",
    "\n",
    "Cubic_B1 = np.sum(Train_Y)\n",
    "Cubic_B2 = np.sum(np.multiply(Train_X, Train_Y))\n",
    "Cubic_B3 = np.sum(np.multiply(Train_Y, x_square))\n",
    "Cubic_B4 = np.sum(np.multiply(Train_Y, x_cube))"
   ]
  },
  {
   "cell_type": "code",
   "execution_count": 931,
   "id": "e6fe9498",
   "metadata": {},
   "outputs": [],
   "source": [
    "# Generating Matrix 'A' & Matrix 'B'\n",
    "Cubic_A = np.array([[Cubic_A1, Cubic_A2, Cubic_A3, Cubic_A4], \n",
    "                   [Cubic_A5, Cubic_A6, Cubic_A7, Cubic_A8], \n",
    "                   [Cubic_A9, Cubic_A10, Cubic_A11, Cubic_A12], \n",
    "                   [Cubic_A13, Cubic_A14, Cubic_A15, Cubic_A16]])\n",
    "\n",
    "Cubic_B = np.array([[Cubic_B1], \n",
    "                   [Cubic_B2], \n",
    "                   [Cubic_B3], \n",
    "                   [Cubic_B4]])"
   ]
  },
  {
   "cell_type": "code",
   "execution_count": 932,
   "id": "f818a9f2",
   "metadata": {},
   "outputs": [
    {
     "name": "stdout",
     "output_type": "stream",
     "text": [
      "[[  283.           444.95         932.7465      2199.781025  ]\n",
      " [  444.95         932.7465      2199.781025    5533.85257677]\n",
      " [  932.7465      2199.781025    5533.85257677 14501.33829628]\n",
      " [ 2199.781025    5533.85257677 14501.33829628 39086.48841058]]\n"
     ]
    }
   ],
   "source": [
    "print(Cubic_A)"
   ]
  },
  {
   "cell_type": "code",
   "execution_count": 933,
   "id": "5a48ddac",
   "metadata": {},
   "outputs": [
    {
     "name": "stdout",
     "output_type": "stream",
     "text": [
      "[[   1.39087   ]\n",
      " [-126.6414295 ]\n",
      " [-378.87568955]\n",
      " [-952.32410353]]\n"
     ]
    }
   ],
   "source": [
    "print(Cubic_B)"
   ]
  },
  {
   "cell_type": "code",
   "execution_count": 934,
   "id": "9f124115",
   "metadata": {},
   "outputs": [],
   "source": [
    "# Taking inverse of Matrix 'A'\n",
    "Cubic_A_inv = np.linalg.inv(Cubic_A)\n",
    "\n",
    "# Computing 'Q' Matrix (which has values; Qo, Q1, Q2, Q3 that is used to get predictions of Testing data)\n",
    "Cubic_Q = np.dot(Cubic_A_inv, Cubic_B)"
   ]
  },
  {
   "cell_type": "code",
   "execution_count": 935,
   "id": "f1b34f7a",
   "metadata": {},
   "outputs": [
    {
     "name": "stdout",
     "output_type": "stream",
     "text": [
      "[[ 0.05664436 -0.13513534  0.08595689 -0.01594607]\n",
      " [-0.13513534  0.4295675  -0.30731072  0.06080162]\n",
      " [ 0.08595689 -0.30731072  0.23448106 -0.04832266]\n",
      " [-0.01594607  0.06080162 -0.04832266  0.01024277]]\n"
     ]
    }
   ],
   "source": [
    "print(Cubic_A_inv)"
   ]
  },
  {
   "cell_type": "code",
   "execution_count": 936,
   "id": "3872aba9",
   "metadata": {},
   "outputs": [
    {
     "name": "stdout",
     "output_type": "stream",
     "text": [
      "[[-0.18862637]\n",
      " [ 3.94071895]\n",
      " [-3.78251095]\n",
      " [ 0.83166145]]\n"
     ]
    }
   ],
   "source": [
    "print(Cubic_Q)"
   ]
  },
  {
   "cell_type": "code",
   "execution_count": 937,
   "id": "64ab7d30",
   "metadata": {},
   "outputs": [
    {
     "data": {
      "text/plain": [
       "numpy.ndarray"
      ]
     },
     "execution_count": 937,
     "metadata": {},
     "output_type": "execute_result"
    }
   ],
   "source": [
    "# Storing Q's Matrix values\n",
    "Cubic_Qo = Cubic_Q[0:1]\n",
    "Cubic_Q1 = Cubic_Q[1:2]\n",
    "Cubic_Q2 = Cubic_Q[2:3]\n",
    "Cubic_Q3 = Cubic_Q[3:4]\n",
    "\n",
    "type(Quad_Qo)"
   ]
  },
  {
   "cell_type": "code",
   "execution_count": 938,
   "id": "c47332ce",
   "metadata": {},
   "outputs": [
    {
     "name": "stdout",
     "output_type": "stream",
     "text": [
      "[[-0.18862637]]\n"
     ]
    }
   ],
   "source": [
    "print(Cubic_Qo)"
   ]
  },
  {
   "cell_type": "code",
   "execution_count": 939,
   "id": "8365add3",
   "metadata": {},
   "outputs": [
    {
     "name": "stdout",
     "output_type": "stream",
     "text": [
      "[[3.94071895]]\n"
     ]
    }
   ],
   "source": [
    "print(Cubic_Q1)"
   ]
  },
  {
   "cell_type": "code",
   "execution_count": 940,
   "id": "f8a79c0f",
   "metadata": {},
   "outputs": [
    {
     "name": "stdout",
     "output_type": "stream",
     "text": [
      "[[-3.78251095]]\n"
     ]
    }
   ],
   "source": [
    "print(Cubic_Q2)"
   ]
  },
  {
   "cell_type": "code",
   "execution_count": 941,
   "id": "a13ae9a4",
   "metadata": {},
   "outputs": [
    {
     "name": "stdout",
     "output_type": "stream",
     "text": [
      "[[0.83166145]]\n"
     ]
    }
   ],
   "source": [
    "print(Cubic_Q3)"
   ]
  },
  {
   "cell_type": "code",
   "execution_count": 942,
   "id": "acd51b48",
   "metadata": {},
   "outputs": [],
   "source": [
    "# Hypothesis Function for Quadratic Model\n",
    "\n",
    "Cubic_y_hat = float(Cubic_Qo) + np.multiply(float(Cubic_Q1), Test_X) +  np.multiply(float(Cubic_Q2), (np.multiply(Test_X, Test_X))) + np.multiply(float(Cubic_Q3), np.multiply((np.multiply(Test_X, Test_X)), Test_X))"
   ]
  },
  {
   "cell_type": "code",
   "execution_count": 943,
   "id": "42345cf6",
   "metadata": {},
   "outputs": [
    {
     "name": "stdout",
     "output_type": "stream",
     "text": [
      "[-0.18862637  0.16845208  0.45487027  0.67561819  0.83568579  0.94006305\n",
      "  0.99373993  1.00170641  0.96895245  0.90046802  0.80124308  0.67626762\n",
      "  0.53053159  0.36902497  0.19673773  0.01865982 -0.16021877 -0.33490808\n",
      " -0.50041814 -0.65175898 -0.78394064 -0.89197314 -0.97086652 -1.0156308\n",
      " -1.02127602 -0.98281221 -0.89524941 -0.75359763 -0.55286692 -0.2880673\n",
      "  0.04579119  0.45369852]\n"
     ]
    }
   ],
   "source": [
    "print(Cubic_y_hat)"
   ]
  },
  {
   "cell_type": "code",
   "execution_count": 944,
   "id": "42f9ac75",
   "metadata": {},
   "outputs": [
    {
     "data": {
      "text/plain": [
       "(32,)"
      ]
     },
     "execution_count": 944,
     "metadata": {},
     "output_type": "execute_result"
    }
   ],
   "source": [
    "Cubic_y_hat.shape"
   ]
  },
  {
   "cell_type": "code",
   "execution_count": 945,
   "id": "39bb6abe",
   "metadata": {},
   "outputs": [
    {
     "data": {
      "text/plain": [
       "(32,)"
      ]
     },
     "execution_count": 945,
     "metadata": {},
     "output_type": "execute_result"
    }
   ],
   "source": [
    "Test_X.shape"
   ]
  },
  {
   "cell_type": "code",
   "execution_count": 946,
   "id": "a7a8aef0",
   "metadata": {},
   "outputs": [],
   "source": [
    "# Computing Mean Square Error for CUBIC Model\n",
    "N = Test_data.shape[0]\n",
    "\n",
    "Cubic_MSE= (np.sum(np.multiply((Cubic_y_hat - Test_Y), (Cubic_y_hat - Test_Y))))/N"
   ]
  },
  {
   "cell_type": "code",
   "execution_count": 947,
   "id": "7db5f8a5",
   "metadata": {},
   "outputs": [
    {
     "name": "stdout",
     "output_type": "stream",
     "text": [
      "Mean Square Error::  0.05154205769095594\n"
     ]
    }
   ],
   "source": [
    "print(\"Mean Square Error:: \", Cubic_MSE)"
   ]
  },
  {
   "cell_type": "markdown",
   "id": "d8337c46",
   "metadata": {},
   "source": [
    "## plotting resulting graph for CUBIC MODEL"
   ]
  },
  {
   "cell_type": "code",
   "execution_count": 948,
   "id": "1d77fde6",
   "metadata": {},
   "outputs": [
    {
     "data": {
      "text/plain": [
       "[<matplotlib.lines.Line2D at 0x1f46131a670>,\n",
       " <matplotlib.lines.Line2D at 0x1f46131a7c0>]"
      ]
     },
     "execution_count": 948,
     "metadata": {},
     "output_type": "execute_result"
    },
    {
     "data": {
      "image/png": "[encoded data removed]",
      "text/plain": [
       "<Figure size 640x480 with 1 Axes>"
      ]
     },
     "metadata": {},
     "output_type": "display_data"
    }
   ],
   "source": [
    "# plotting graph to compare values of actual Test data output & predictions which are done by ourcUBIC Model\n",
    "\n",
    "plt.title(\"Comparision of Testing data (Actual VS Prediction)\")\n",
    "plt.ylabel(\"outputs\")\n",
    "plt.xlabel(\"inputs\")\n",
    "plt.plot(Test_X, Test_Y, Test_X, Cubic_y_hat, linewidth='5')\n"
   ]
  },
  {
   "cell_type": "markdown",
   "id": "f0bcbec9",
   "metadata": {},
   "source": [
    "# Comparisions of three Models"
   ]
  },
  {
   "cell_type": "markdown",
   "id": "2180caf7",
   "metadata": {},
   "source": [
    "### Comments"
   ]
  },
  {
   "cell_type": "markdown",
   "id": "f425f87f",
   "metadata": {},
   "source": [
    "#### We can clearly see the results by looking at the graphs obtained after testing our models. \n",
    "#### Cubic Regression Model is showing the best result with minimum mean square error.\n",
    "#### It is represented by orange line. \n",
    "\n",
    "#### The Quadratic Regression Model is showing acceptable results but not very close to the desired output. The given data was in scattered form but quadratic model showed curved graph. \n",
    "#### It is represented by red line.\n",
    "\n",
    "#### And, \n",
    "#### Linear Regression Model gave the most poor result; it only showed a linear graph, which wasn't close to actual output. \n",
    "#### It is represented by Green line.\n",
    "\n",
    "#### So, we can observe that the greater the hypothesis polynomial is, the least mean  square error will obtain and hence, the effective results can be achieved. It means better will be our model.\n",
    "#### Therefore, cubic regression model is best as it shows results in 3-Dimensions, and it's predicted output is nearly close to the actual one.\n"
   ]
  },
  {
   "cell_type": "code",
   "execution_count": 949,
   "id": "f892dc42",
   "metadata": {},
   "outputs": [
    {
     "data": {
      "text/plain": [
       "[<matplotlib.lines.Line2D at 0x1f461377d30>,\n",
       " <matplotlib.lines.Line2D at 0x1f461377d00>,\n",
       " <matplotlib.lines.Line2D at 0x1f461377f70>,\n",
       " <matplotlib.lines.Line2D at 0x1f4613840d0>]"
      ]
     },
     "execution_count": 949,
     "metadata": {},
     "output_type": "execute_result"
    },
    {
     "data": {
      "image/png": "[encoded data removed]",
      "text/plain": [
       "<Figure size 640x480 with 1 Axes>"
      ]
     },
     "metadata": {},
     "output_type": "display_data"
    }
   ],
   "source": [
    "# plotting graph to compare values of actual Test data output & predictions which are done by ourcUBIC Model\n",
    "\n",
    "plt.title(\"Comparision of Models (Linear, Quadratic & Cubic)\")\n",
    "plt.ylabel(\"outputs\")\n",
    "plt.xlabel(\"inputs\")\n",
    "plt.plot(Test_X, Test_Y, Test_X, Cubic_y_hat, Test_X, Lin_y_hat, Test_X, Quad_y_hat, linewidth='4')\n"
   ]
  },
  {
   "cell_type": "code",
   "execution_count": null,
   "id": "19dece3b",
   "metadata": {},
   "outputs": [],
   "source": []
  }
 ],
 "metadata": {
  "kernelspec": {
   "display_name": "Python 3 (ipykernel)",
   "language": "python",
   "name": "python3"
  },
  "language_info": {
   "codemirror_mode": {
    "name": "ipython",
    "version": 3
   },
   "file_extension": ".py",
   "mimetype": "text/x-python",
   "name": "python",
   "nbconvert_exporter": "python",
   "pygments_lexer": "ipython3",
   "version": "3.9.13"
  }
 },
 "nbformat": 4,
 "nbformat_minor": 5
}
